{
  "nbformat": 4,
  "nbformat_minor": 0,
  "metadata": {
    "kernelspec": {
      "display_name": "Python 3",
      "language": "python",
      "name": "python3"
    },
    "language_info": {
      "codemirror_mode": {
        "name": "ipython",
        "version": 3
      },
      "file_extension": ".py",
      "mimetype": "text/x-python",
      "name": "python",
      "nbconvert_exporter": "python",
      "pygments_lexer": "ipython3",
      "version": "3.7.6"
    },
    "colab": {
      "name": "logistic_home_work.ipynb",
      "provenance": [],
      "collapsed_sections": [],
      "toc_visible": true
    }
  },
  "cells": [
    {
      "cell_type": "code",
      "metadata": {
        "id": "FGBF5jTFqwvc"
      },
      "source": [
        "import numpy as np\n",
        "\n",
        "N = 100\n",
        "D = 2\n",
        "\n",
        "X = np.random.randn(N,D)\n",
        "ones = np.ones((N, 1))"
      ],
      "execution_count": 2,
      "outputs": []
    },
    {
      "cell_type": "markdown",
      "metadata": {
        "id": "0aoALb4tqwve"
      },
      "source": [
        "# ================= часть 1 =========="
      ]
    },
    {
      "cell_type": "markdown",
      "metadata": {
        "id": "sCBx_92yqwve"
      },
      "source": [
        "# конкатенируйте в одной переменной X и ones "
      ]
    },
    {
      "cell_type": "code",
      "metadata": {
        "id": "A4uQ6t5Aqwve",
        "colab": {
          "base_uri": "https://localhost:8080/"
        },
        "outputId": "80109dfa-d3d9-4654-f515-4ee7ee9c0e84"
      },
      "source": [
        "X = np.concatenate((X, ones), axis=1)\n",
        "X.shape"
      ],
      "execution_count": 3,
      "outputs": [
        {
          "output_type": "execute_result",
          "data": {
            "text/plain": [
              "(100, 3)"
            ]
          },
          "metadata": {
            "tags": []
          },
          "execution_count": 3
        }
      ]
    },
    {
      "cell_type": "markdown",
      "metadata": {
        "id": "8OxzV3kVqwvk"
      },
      "source": [
        "# создайте случайный вектор весов w нужной размерности"
      ]
    },
    {
      "cell_type": "code",
      "metadata": {
        "id": "FeL-BdNLqwvk",
        "colab": {
          "base_uri": "https://localhost:8080/"
        },
        "outputId": "30ca9ee6-9ef5-43e8-beee-c5d02e2e2a39"
      },
      "source": [
        "w = np.random.randn(D + 1, 1)\n",
        "w.shape"
      ],
      "execution_count": 4,
      "outputs": [
        {
          "output_type": "execute_result",
          "data": {
            "text/plain": [
              "(3, 1)"
            ]
          },
          "metadata": {
            "tags": []
          },
          "execution_count": 4
        }
      ]
    },
    {
      "cell_type": "markdown",
      "metadata": {
        "id": "h8o3Dt_Yqwvk"
      },
      "source": [
        "# вычислите $z = w^Tx$"
      ]
    },
    {
      "cell_type": "code",
      "metadata": {
        "id": "7WADky7sqwvk",
        "colab": {
          "base_uri": "https://localhost:8080/"
        },
        "outputId": "4b30429c-c3b5-408c-97d4-67b5beae6e71"
      },
      "source": [
        "z = X @ w\n",
        "z.shape"
      ],
      "execution_count": 5,
      "outputs": [
        {
          "output_type": "execute_result",
          "data": {
            "text/plain": [
              "(100, 1)"
            ]
          },
          "metadata": {
            "tags": []
          },
          "execution_count": 5
        }
      ]
    },
    {
      "cell_type": "markdown",
      "metadata": {
        "id": "qniLoYHtqwvl"
      },
      "source": [
        "# вычислите $\\sigma(z)$ (предварительно реализуйте функцию sigmoid)"
      ]
    },
    {
      "cell_type": "code",
      "metadata": {
        "id": "HMvfFFNDqwvl"
      },
      "source": [
        "def sigmoid(z):\n",
        "    return 1 / (1 + np.exp(-z))"
      ],
      "execution_count": 6,
      "outputs": []
    },
    {
      "cell_type": "markdown",
      "metadata": {
        "id": "MGYF8JDvqwvl"
      },
      "source": [
        "# ================= часть 2 =========="
      ]
    },
    {
      "cell_type": "code",
      "metadata": {
        "id": "n_LDoQyoqwvl"
      },
      "source": [
        "\n",
        "import numpy as np\n",
        "N = 100\n",
        "D = 2\n",
        "\n",
        "# генерация датасета\n",
        "\n",
        "np.random.seed(42)\n",
        "X = np.random.randn(N, D)\n",
        "ones = np.ones((N, 1))\n",
        "\n",
        "X[:50,:] = X[:50,:] - 2*np.ones((50,D))\n",
        "X[50:,:] = X[50:,:] + 2*np.ones((50,D))\n",
        "\n",
        "# метки из train set\n",
        "T = np.array([0]*50 + [1]*50)\n",
        "\n",
        "# данные из части 1\n",
        "ones = np.ones((N, 1))\n",
        "\n",
        "Xb = np.concatenate((ones, X), axis=1)\n",
        "w = np.random.randn(D + 1)\n",
        "z = Xb.dot(w)\n",
        "\n",
        "def sigmoid(z):\n",
        "    return 1/(1 + np.exp(-z))\n",
        "\n",
        "Y = sigmoid(z)"
      ],
      "execution_count": 7,
      "outputs": []
    },
    {
      "cell_type": "markdown",
      "metadata": {
        "id": "-QCjh7XTqwvl"
      },
      "source": [
        "# реализуйте функцию: def cross_entropy(T, Y):"
      ]
    },
    {
      "cell_type": "code",
      "metadata": {
        "id": "2RujK5KQqwvl"
      },
      "source": [
        "def cross_entropy(T, Y):\n",
        "  return -1 * np.array([t * np.log(y) + (1 - t) * np.log(1 - y) for t, y in zip(T, Y)]).mean()"
      ],
      "execution_count": 8,
      "outputs": []
    },
    {
      "cell_type": "code",
      "metadata": {
        "id": "TM8cchD2qwvl",
        "colab": {
          "base_uri": "https://localhost:8080/"
        },
        "outputId": "411ce588-8e31-494f-bac8-02ded11dedf7"
      },
      "source": [
        "print(cross_entropy(T, Y))\n",
        "..."
      ],
      "execution_count": 9,
      "outputs": [
        {
          "output_type": "stream",
          "text": [
            "0.060301620601623994\n"
          ],
          "name": "stdout"
        }
      ]
    },
    {
      "cell_type": "markdown",
      "metadata": {
        "id": "tNu5uBEaqwvl"
      },
      "source": [
        "## задайте веса с помощью точного решения [0,-4,-4]"
      ]
    },
    {
      "cell_type": "code",
      "metadata": {
        "id": "4y46sMQEqwvl",
        "colab": {
          "base_uri": "https://localhost:8080/"
        },
        "outputId": "26f96b1f-7231-41e6-ec5d-c29af36c2b9a"
      },
      "source": [
        "#отделяем данные по значению\n",
        "X_0 = X[T == 0]\n",
        "X_1 = X[T == 1]\n",
        "\n",
        "#формируем Sigma как матрица ковариации, при этом обнуляя не диагональные элементы\n",
        "Sigma = np.cov(X_0.T)\n",
        "Sigma[1][0] = 0\n",
        "Sigma[0][1] = 0\n",
        "\n",
        "print('Sigma\\n',Sigma)\n",
        "\n",
        "mu_1 = np.array([X0.mean() for X0 in X_0.T])\n",
        "mu_2 = np.array([X1.mean() for X1 in X_1.T])\n",
        "Sigma_inv = np.linalg.inv(Sigma) #нахождения обратной матрицы Сигма согласно формуле \n",
        "\n",
        "print('Sigma inversed\\n',Sigma_inv)\n",
        "\n",
        "w = (mu_1 - mu_2) @ Sigma_inv\n",
        "print('W',w)\n",
        "alpha = len(X_0) / len(X)\n",
        "\n",
        "b = 1/2 * mu_1.T @ Sigma_inv @ mu_1 - 1/2 * mu_2.T @ Sigma_inv @ mu_2 + np.log(alpha / (1 - alpha))\n",
        "\n",
        "print('b',b)\n"
      ],
      "execution_count": 80,
      "outputs": [
        {
          "output_type": "stream",
          "text": [
            "Sigma\n",
            " [[0.69631545 0.        ]\n",
            " [0.         0.96798885]]\n",
            "Sigma inversed\n",
            " [[1.43613072 0.        ]\n",
            " [0.         1.03306976]]\n",
            "W [-5.802288  -4.3513719]\n",
            "b 0.5224933024235856\n"
          ],
          "name": "stdout"
        }
      ]
    },
    {
      "cell_type": "markdown",
      "metadata": {
        "id": "ydBLAHxQqwvl"
      },
      "source": [
        "# вычислите z и Y"
      ]
    },
    {
      "cell_type": "code",
      "metadata": {
        "id": "hsa9nKsUqwvl"
      },
      "source": [
        "z = X.dot(w) + b\n",
        "Y = sigmoid(z)"
      ],
      "execution_count": 81,
      "outputs": []
    },
    {
      "cell_type": "markdown",
      "metadata": {
        "id": "xkPYlZyVqwvl"
      },
      "source": [
        "# вычислите cross_entropy(T, Y)"
      ]
    },
    {
      "cell_type": "code",
      "metadata": {
        "id": "WMjt5Eibqwvl",
        "colab": {
          "base_uri": "https://localhost:8080/"
        },
        "outputId": "ff4d9615-d46e-4c3b-d821-b7350a49bf25"
      },
      "source": [
        "cross_entropy(T, Y)"
      ],
      "execution_count": 82,
      "outputs": [
        {
          "output_type": "execute_result",
          "data": {
            "text/plain": [
              "20.885419332477166"
            ]
          },
          "metadata": {
            "tags": []
          },
          "execution_count": 82
        }
      ]
    },
    {
      "cell_type": "markdown",
      "metadata": {
        "id": "y0TKBVbFqwvl"
      },
      "source": [
        "# ================ часть 3 =============="
      ]
    },
    {
      "cell_type": "code",
      "metadata": {
        "id": "EsHBZBPEqwvl",
        "colab": {
          "base_uri": "https://localhost:8080/",
          "height": 282
        },
        "outputId": "34c9e969-adc1-401e-c003-2a64491de738"
      },
      "source": [
        "import matplotlib.pyplot as plt\n",
        "\n",
        "plt.scatter(X[:,0], X[:,1], c=T)"
      ],
      "execution_count": 13,
      "outputs": [
        {
          "output_type": "execute_result",
          "data": {
            "text/plain": [
              "<matplotlib.collections.PathCollection at 0x7fbff189f198>"
            ]
          },
          "metadata": {
            "tags": []
          },
          "execution_count": 13
        },
        {
          "output_type": "display_data",
          "data": {
            "image/png": "[encoded data removed]",
            "text/plain": [
              "<Figure size 432x288 with 1 Axes>"
            ]
          },
          "metadata": {
            "tags": [],
            "needs_background": "light"
          }
        }
      ]
    },
    {
      "cell_type": "markdown",
      "metadata": {
        "id": "bxzI6LqZqwvm"
      },
      "source": [
        "# выполните 100 итераций градиентного спуска\n",
        "### $J = crossentr + \\frac{1}{2} \\alpha w^Tw$"
      ]
    },
    {
      "cell_type": "code",
      "metadata": {
        "id": "WNKmzzaKqwvm"
      },
      "source": [
        "w = np.array([0, 4, 4])\n",
        "epochs = 300\n",
        "lrate = 0.5\n",
        "for epoch in range(epochs):\n",
        "  prediction = sigmoid(Xb.dot(w.T))\n",
        "  w = w - lrate * Xb.T @ (prediction - T)"
      ],
      "execution_count": 75,
      "outputs": []
    },
    {
      "cell_type": "markdown",
      "metadata": {
        "id": "zr0gOi4Zqwvm"
      },
      "source": [
        "# выведите новые веса w\n",
        "# нарисуйте датасет с границей (классификтором)"
      ]
    },
    {
      "cell_type": "code",
      "metadata": {
        "id": "wfySZmH_qwvm",
        "colab": {
          "base_uri": "https://localhost:8080/"
        },
        "outputId": "0b9a5570-8bd2-45c2-b7ff-927a261fbdbc"
      },
      "source": [
        "print('Weights: ', w)\n",
        "print('Cross Entropy: ', cross_entropy(T, sigmoid(Xb.dot(w.T))))"
      ],
      "execution_count": 76,
      "outputs": [
        {
          "output_type": "stream",
          "text": [
            "Weights:  [0.1381924  4.63335528 4.5870253 ]\n",
            "Cross Entropy:  3.0006246908541885e-05\n"
          ],
          "name": "stdout"
        }
      ]
    },
    {
      "cell_type": "markdown",
      "metadata": {
        "id": "lIOrvQ4iqwvm"
      },
      "source": [
        "# =========== часть 4 =============\n",
        "# добавьте регуляризацию $L_2$"
      ]
    },
    {
      "cell_type": "code",
      "metadata": {
        "id": "eGWwlJcfqwvm",
        "colab": {
          "base_uri": "https://localhost:8080/"
        },
        "outputId": "976fb566-8fc6-43bc-a258-5ed1ab491a86"
      },
      "source": [
        "w = np.array([0, 4, 4])\n",
        "epochs = 300\n",
        "lrate = 0.1\n",
        "r = 0.5\n",
        "for epoch in range(epochs):\n",
        "  prediction = sigmoid(Xb.dot(w.T))\n",
        "  L2_term = 1/2 * r * w @ w.T / epochs\n",
        "  w = w - lrate * (Xb.T @ (prediction - T) + r * w / epochs)\n",
        "print('Weights: ', w)\n",
        "print('Cross Entropy: ', cross_entropy(T, sigmoid(Xb.dot(w.T))))"
      ],
      "execution_count": 55,
      "outputs": [
        {
          "output_type": "stream",
          "text": [
            "Weights:  [0.05008601 4.02285676 4.00652522]\n",
            "Cross Entropy:  8.303765679922639e-05\n"
          ],
          "name": "stdout"
        }
      ]
    },
    {
      "cell_type": "markdown",
      "metadata": {
        "id": "_1aZ0E9dqwvm"
      },
      "source": [
        "# выведите новые веса w\n",
        "# нарисуйте датасет с границей (классификтором)"
      ]
    },
    {
      "cell_type": "code",
      "metadata": {
        "id": "3ITFfQhtqwvm"
      },
      "source": [
        ""
      ],
      "execution_count": 16,
      "outputs": []
    },
    {
      "cell_type": "code",
      "metadata": {
        "id": "Ts9j8b1Sqwvm",
        "colab": {
          "base_uri": "https://localhost:8080/",
          "height": 486
        },
        "outputId": "5a70a8bb-b141-4de8-f884-9842e37393ab"
      },
      "source": [
        "plt.scatter(X[:,0], X[:,1], c=T)\n",
        "\n",
        "print('w:', w)\n",
        "xx = np.linspace(-6, 6)\n",
        "b = w[0]/w[2]\n",
        "x1 = -w[1]/w[2]\n",
        "yy = x1 * xx - b\n",
        "\n",
        "print('b:', b)\n",
        "print('x1:', x1)\n",
        "print('yy:', yy)\n",
        "\n",
        "plt.plot(xx, yy, 'k-')"
      ],
      "execution_count": 27,
      "outputs": [
        {
          "output_type": "stream",
          "text": [
            "w: [0.02814373 3.92416149 3.91519133]\n",
            "b: 0.007188340611344133\n",
            "x1: -1.0022911160747732\n",
            "yy: [ 6.00655836  5.76109931  5.51564026  5.27018121  5.02472216  4.77926311\n",
            "  4.53380406  4.28834501  4.04288597  3.79742692  3.55196787  3.30650882\n",
            "  3.06104977  2.81559072  2.57013167  2.32467262  2.07921357  1.83375453\n",
            "  1.58829548  1.34283643  1.09737738  0.85191833  0.60645928  0.36100023\n",
            "  0.11554118 -0.12991787 -0.37537691 -0.62083596 -0.86629501 -1.11175406\n",
            " -1.35721311 -1.60267216 -1.84813121 -2.09359026 -2.3390493  -2.58450835\n",
            " -2.8299674  -3.07542645 -3.3208855  -3.56634455 -3.8118036  -4.05726265\n",
            " -4.3027217  -4.54818074 -4.79363979 -5.03909884 -5.28455789 -5.53001694\n",
            " -5.77547599 -6.02093504]\n"
          ],
          "name": "stdout"
        },
        {
          "output_type": "execute_result",
          "data": {
            "text/plain": [
              "[<matplotlib.lines.Line2D at 0x7fbff107ba90>]"
            ]
          },
          "metadata": {
            "tags": []
          },
          "execution_count": 27
        },
        {
          "output_type": "display_data",
          "data": {
            "image/png": "[encoded data removed]",
            "text/plain": [
              "<Figure size 432x288 with 1 Axes>"
            ]
          },
          "metadata": {
            "tags": [],
            "needs_background": "light"
          }
        }
      ]
    }
  ]
}
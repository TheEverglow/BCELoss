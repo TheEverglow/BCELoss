{
  "nbformat": 4,
  "nbformat_minor": 0,
  "metadata": {
    "kernelspec": {
      "display_name": "Python 3",
      "language": "python",
      "name": "python3"
    },
    "language_info": {
      "codemirror_mode": {
        "name": "ipython",
        "version": 3
      },
      "file_extension": ".py",
      "mimetype": "text/x-python",
      "name": "python",
      "nbconvert_exporter": "python",
      "pygments_lexer": "ipython3",
      "version": "3.7.6"
    },
    "colab": {
      "name": "logistic_home_work.ipynb",
      "provenance": [],
      "collapsed_sections": [],
      "toc_visible": true
    }
  },
  "cells": [
    {
      "cell_type": "code",
      "metadata": {
        "id": "FGBF5jTFqwvc"
      },
      "source": [
        "import numpy as np\n",
        "\n",
        "N = 100\n",
        "D = 2\n",
        "\n",
        "X = np.random.randn(N,D)\n",
        "ones = np.ones((N, 1))"
      ],
      "execution_count": 1,
      "outputs": []
    },
    {
      "cell_type": "markdown",
      "metadata": {
        "id": "0aoALb4tqwve"
      },
      "source": [
        "# ================= часть 1 =========="
      ]
    },
    {
      "cell_type": "markdown",
      "metadata": {
        "id": "sCBx_92yqwve"
      },
      "source": [
        "# конкатенируйте в одной переменной X и ones "
      ]
    },
    {
      "cell_type": "code",
      "metadata": {
        "id": "A4uQ6t5Aqwve",
        "colab": {
          "base_uri": "https://localhost:8080/"
        },
        "outputId": "fef8bc7d-8fe9-4d37-a0f1-70a3027e0f37"
      },
      "source": [
        "X = np.concatenate((X, ones), axis=1)\n",
        "X.shape"
      ],
      "execution_count": 2,
      "outputs": [
        {
          "output_type": "execute_result",
          "data": {
            "text/plain": [
              "(100, 3)"
            ]
          },
          "metadata": {
            "tags": []
          },
          "execution_count": 2
        }
      ]
    },
    {
      "cell_type": "markdown",
      "metadata": {
        "id": "8OxzV3kVqwvk"
      },
      "source": [
        "# создайте случайный вектор весов w нужной размерности"
      ]
    },
    {
      "cell_type": "code",
      "metadata": {
        "id": "FeL-BdNLqwvk",
        "colab": {
          "base_uri": "https://localhost:8080/"
        },
        "outputId": "df1f8151-36ec-43c5-e6dd-c583213bb02a"
      },
      "source": [
        "w = np.random.randn(D + 1, 1)\n",
        "w.shape"
      ],
      "execution_count": 3,
      "outputs": [
        {
          "output_type": "execute_result",
          "data": {
            "text/plain": [
              "(3, 1)"
            ]
          },
          "metadata": {
            "tags": []
          },
          "execution_count": 3
        }
      ]
    },
    {
      "cell_type": "markdown",
      "metadata": {
        "id": "h8o3Dt_Yqwvk"
      },
      "source": [
        "# вычислите $z = w^Tx$"
      ]
    },
    {
      "cell_type": "code",
      "metadata": {
        "id": "7WADky7sqwvk",
        "colab": {
          "base_uri": "https://localhost:8080/"
        },
        "outputId": "27ce52d8-9734-4b32-e276-4494c355384a"
      },
      "source": [
        "z = X @ w\n",
        "z.shape"
      ],
      "execution_count": 4,
      "outputs": [
        {
          "output_type": "execute_result",
          "data": {
            "text/plain": [
              "(100, 1)"
            ]
          },
          "metadata": {
            "tags": []
          },
          "execution_count": 4
        }
      ]
    },
    {
      "cell_type": "markdown",
      "metadata": {
        "id": "qniLoYHtqwvl"
      },
      "source": [
        "# вычислите $\\sigma(z)$ (предварительно реализуйте функцию sigmoid)"
      ]
    },
    {
      "cell_type": "code",
      "metadata": {
        "id": "HMvfFFNDqwvl"
      },
      "source": [
        "def sigmoid(z):\n",
        "    return 1 / (1 + np.exp(-z))"
      ],
      "execution_count": 5,
      "outputs": []
    },
    {
      "cell_type": "markdown",
      "metadata": {
        "id": "MGYF8JDvqwvl"
      },
      "source": [
        "# ================= часть 2 =========="
      ]
    },
    {
      "cell_type": "code",
      "metadata": {
        "id": "n_LDoQyoqwvl"
      },
      "source": [
        "\n",
        "import numpy as np\n",
        "N = 100\n",
        "D = 2\n",
        "\n",
        "# генерация датасета\n",
        "\n",
        "np.random.seed(42)\n",
        "X = np.random.randn(N, D)\n",
        "ones = np.ones((N, 1))\n",
        "\n",
        "X[:50,:] = X[:50,:] - 2*np.ones((50,D))\n",
        "X[50:,:] = X[50:,:] + 2*np.ones((50,D))\n",
        "\n",
        "# метки из train set\n",
        "T = np.array([0]*50 + [1]*50)\n",
        "\n",
        "# данные из части 1\n",
        "ones = np.ones((N, 1))\n",
        "\n",
        "Xb = np.concatenate((ones, X), axis=1)\n",
        "w = np.random.randn(D + 1)\n",
        "z = Xb.dot(w)\n",
        "\n",
        "def sigmoid(z):\n",
        "    return 1/(1 + np.exp(-z))\n",
        "\n",
        "Y = sigmoid(z)"
      ],
      "execution_count": 6,
      "outputs": []
    },
    {
      "cell_type": "markdown",
      "metadata": {
        "id": "-QCjh7XTqwvl"
      },
      "source": [
        "# реализуйте функцию: def cross_entropy(T, Y):"
      ]
    },
    {
      "cell_type": "code",
      "metadata": {
        "id": "2RujK5KQqwvl"
      },
      "source": [
        "def cross_entropy(T, Y):\n",
        "  return -1 * np.array([t * np.log(y) + (1 - t) * np.log(1 - y) for t, y in zip(T, Y)]).mean()"
      ],
      "execution_count": 7,
      "outputs": []
    },
    {
      "cell_type": "code",
      "metadata": {
        "id": "TM8cchD2qwvl",
        "colab": {
          "base_uri": "https://localhost:8080/"
        },
        "outputId": "781de70f-2d92-424b-9cec-295122b5d552"
      },
      "source": [
        "print(cross_entropy(T, Y))\n",
        "..."
      ],
      "execution_count": 8,
      "outputs": [
        {
          "output_type": "stream",
          "text": [
            "0.060301620601623994\n"
          ],
          "name": "stdout"
        }
      ]
    },
    {
      "cell_type": "markdown",
      "metadata": {
        "id": "tNu5uBEaqwvl"
      },
      "source": [
        "## задайте веса с помощью точного решения [0,-4,-4]"
      ]
    },
    {
      "cell_type": "code",
      "metadata": {
        "id": "4y46sMQEqwvl",
        "colab": {
          "base_uri": "https://localhost:8080/"
        },
        "outputId": "1f9a5221-aaea-479a-b201-1bf4fcea9304"
      },
      "source": [
        "#отделяем данные по значению\n",
        "X_0 = X[T == 0]\n",
        "X_1 = X[T == 1]\n",
        "\n",
        "#формируем Sigma как матрица ковариации, при этом обнуляя не диагональные элементы\n",
        "Sigma = np.cov(X_0.T)\n",
        "Sigma[1][0] = 0\n",
        "Sigma[0][1] = 0\n",
        "\n",
        "print('Sigma\\n',Sigma)\n",
        "\n",
        "mu_1 = np.array([X0.mean() for X0 in X_0.T])\n",
        "mu_2 = np.array([X1.mean() for X1 in X_1.T])\n",
        "Sigma_inv = np.linalg.inv(Sigma) #нахождения обратной матрицы Сигма согласно формуле \n",
        "\n",
        "print('Sigma inversed\\n',Sigma_inv)\n",
        "\n",
        "w = (mu_2 - mu_1) @ Sigma_inv\n",
        "print('W',w)\n",
        "alpha = len(X_0) / len(X)\n",
        "\n",
        "b = 1/2 * mu_1.T @ Sigma_inv @ mu_1 - 1/2 * mu_2.T @ Sigma_inv @ mu_2 + np.log(alpha / (1 - alpha))\n",
        "\n",
        "print('b',b)\n"
      ],
      "execution_count": 9,
      "outputs": [
        {
          "output_type": "stream",
          "text": [
            "Sigma\n",
            " [[0.69631545 0.        ]\n",
            " [0.         0.96798885]]\n",
            "Sigma inversed\n",
            " [[1.43613072 0.        ]\n",
            " [0.         1.03306976]]\n",
            "W [5.802288  4.3513719]\n",
            "b 0.5224933024235856\n"
          ],
          "name": "stdout"
        }
      ]
    },
    {
      "cell_type": "markdown",
      "metadata": {
        "id": "ydBLAHxQqwvl"
      },
      "source": [
        "# вычислите z и Y"
      ]
    },
    {
      "cell_type": "code",
      "metadata": {
        "id": "hsa9nKsUqwvl"
      },
      "source": [
        "z = X.dot(w) + b\n",
        "Y = sigmoid(z)"
      ],
      "execution_count": 10,
      "outputs": []
    },
    {
      "cell_type": "markdown",
      "metadata": {
        "id": "xkPYlZyVqwvl"
      },
      "source": [
        "# вычислите cross_entropy(T, Y)"
      ]
    },
    {
      "cell_type": "code",
      "metadata": {
        "id": "WMjt5Eibqwvl",
        "colab": {
          "base_uri": "https://localhost:8080/"
        },
        "outputId": "7de15f39-e9ea-4bce-fb55-5f4aeb1e3a8d"
      },
      "source": [
        "cross_entropy(T, Y)"
      ],
      "execution_count": 11,
      "outputs": [
        {
          "output_type": "execute_result",
          "data": {
            "text/plain": [
              "1.5288868989303075e-05"
            ]
          },
          "metadata": {
            "tags": []
          },
          "execution_count": 11
        }
      ]
    },
    {
      "cell_type": "markdown",
      "metadata": {
        "id": "y0TKBVbFqwvl"
      },
      "source": [
        "# ================ часть 3 =============="
      ]
    },
    {
      "cell_type": "code",
      "metadata": {
        "id": "EsHBZBPEqwvl",
        "colab": {
          "base_uri": "https://localhost:8080/",
          "height": 282
        },
        "outputId": "0dcfed4d-4e3c-439b-f2e6-278115b52581"
      },
      "source": [
        "import matplotlib.pyplot as plt\n",
        "\n",
        "plt.scatter(X[:,0], X[:,1], c=T)"
      ],
      "execution_count": 12,
      "outputs": [
        {
          "output_type": "execute_result",
          "data": {
            "text/plain": [
              "<matplotlib.collections.PathCollection at 0x7f87e6cad908>"
            ]
          },
          "metadata": {
            "tags": []
          },
          "execution_count": 12
        },
        {
          "output_type": "display_data",
          "data": {
            "image/png": "[encoded data removed]",
            "text/plain": [
              "<Figure size 432x288 with 1 Axes>"
            ]
          },
          "metadata": {
            "tags": [],
            "needs_background": "light"
          }
        }
      ]
    },
    {
      "cell_type": "markdown",
      "metadata": {
        "id": "bxzI6LqZqwvm"
      },
      "source": [
        "# выполните 100 итераций градиентного спуска\n",
        "### $J = crossentr + \\frac{1}{2} \\alpha w^Tw$"
      ]
    },
    {
      "cell_type": "code",
      "metadata": {
        "id": "WNKmzzaKqwvm"
      },
      "source": [
        "w = np.array([0, 1, 1])\n",
        "loss = []\n",
        "epochs = 100\n",
        "lrate = 0.1\n",
        "for epoch in range(epochs):\n",
        "  prediction = sigmoid(Xb.dot(w.T))\n",
        "  loss.append(cross_entropy(T, prediction))\n",
        "  w = w - lrate * Xb.T @ (prediction - T)"
      ],
      "execution_count": 55,
      "outputs": []
    },
    {
      "cell_type": "code",
      "metadata": {
        "colab": {
          "base_uri": "https://localhost:8080/",
          "height": 283
        },
        "id": "IO2cNfjt9T1q",
        "outputId": "9c189851-65bb-446d-e74b-8ae789cbe222"
      },
      "source": [
        "plt.plot(range(epochs), loss)\r\n"
      ],
      "execution_count": 56,
      "outputs": [
        {
          "output_type": "execute_result",
          "data": {
            "text/plain": [
              "[<matplotlib.lines.Line2D at 0x7f87e6045470>]"
            ]
          },
          "metadata": {
            "tags": []
          },
          "execution_count": 56
        },
        {
          "output_type": "display_data",
          "data": {
            "image/png": "[encoded data removed]",
            "text/plain": [
              "<Figure size 432x288 with 1 Axes>"
            ]
          },
          "metadata": {
            "tags": [],
            "needs_background": "light"
          }
        }
      ]
    },
    {
      "cell_type": "markdown",
      "metadata": {
        "id": "zr0gOi4Zqwvm"
      },
      "source": [
        "# выведите новые веса w\n",
        "# нарисуйте датасет с границей (классификтором)"
      ]
    },
    {
      "cell_type": "code",
      "metadata": {
        "id": "wfySZmH_qwvm",
        "colab": {
          "base_uri": "https://localhost:8080/"
        },
        "outputId": "7c51b1f8-5be5-4c9d-8385-07aef61ffcd8"
      },
      "source": [
        "print('Weights: ', w)\n",
        "print('Cross Entropy: ', cross_entropy(T, sigmoid(Xb.dot(w.T))))"
      ],
      "execution_count": 58,
      "outputs": [
        {
          "output_type": "stream",
          "text": [
            "Weights:  [0.07612547 2.99941236 2.95035906]\n",
            "Cross Entropy:  0.0005143453959422416\n"
          ],
          "name": "stdout"
        }
      ]
    },
    {
      "cell_type": "markdown",
      "metadata": {
        "id": "lIOrvQ4iqwvm"
      },
      "source": [
        "# =========== часть 4 =============\n",
        "# добавьте регуляризацию $L_2$"
      ]
    },
    {
      "cell_type": "code",
      "metadata": {
        "id": "eGWwlJcfqwvm",
        "colab": {
          "base_uri": "https://localhost:8080/"
        },
        "outputId": "cbbc6dd7-547e-4218-f2c5-6c79eb8196bc"
      },
      "source": [
        "L2_loss = []\n",
        "w = np.array([0, 1, 1])\n",
        "epochs = 100\n",
        "lrate = 0.1\n",
        "r = 0.001\n",
        "for epoch in range(epochs):\n",
        "  prediction = sigmoid(Xb.dot(w.T))\n",
        "  L2_term = 1/2 * r * w @ w.T / len(prediction)\n",
        "  L2_loss.append(cross_entropy(T, prediction) + L2_term)\n",
        "  w = w - lrate * (Xb.T @ (prediction - T) + r * w / len(prediction))\n",
        "print('Weights: ', w)\n",
        "print('Cross Entropy: ', cross_entropy(T, sigmoid(Xb.dot(w.T))))"
      ],
      "execution_count": 60,
      "outputs": [
        {
          "output_type": "stream",
          "text": [
            "Weights:  [0.07612199 2.99926604 2.95021353]\n",
            "Cross Entropy:  0.0005144826496048379\n"
          ],
          "name": "stdout"
        }
      ]
    },
    {
      "cell_type": "code",
      "metadata": {
        "colab": {
          "base_uri": "https://localhost:8080/",
          "height": 283
        },
        "id": "v1Y_Z8qe9XS3",
        "outputId": "f746c5fb-dc01-491c-9898-6b1dd36ee61a"
      },
      "source": [
        "plt.plot(range(epochs), L2_loss)"
      ],
      "execution_count": 61,
      "outputs": [
        {
          "output_type": "execute_result",
          "data": {
            "text/plain": [
              "[<matplotlib.lines.Line2D at 0x7f87e602d470>]"
            ]
          },
          "metadata": {
            "tags": []
          },
          "execution_count": 61
        },
        {
          "output_type": "display_data",
          "data": {
            "image/png": "[encoded data removed]",
            "text/plain": [
              "<Figure size 432x288 with 1 Axes>"
            ]
          },
          "metadata": {
            "tags": [],
            "needs_background": "light"
          }
        }
      ]
    },
    {
      "cell_type": "markdown",
      "metadata": {
        "id": "_1aZ0E9dqwvm"
      },
      "source": [
        "# выведите новые веса w\n",
        "# нарисуйте датасет с границей (классификтором)"
      ]
    },
    {
      "cell_type": "code",
      "metadata": {
        "id": "Ts9j8b1Sqwvm",
        "colab": {
          "base_uri": "https://localhost:8080/",
          "height": 483
        },
        "outputId": "1a780a61-7851-4886-e59d-ae5965774fe2"
      },
      "source": [
        "plt.scatter(X[:,0], X[:,1], c=T)\n",
        "\n",
        "print('w:', w)\n",
        "xx = np.linspace(-6, 6)\n",
        "b = w[0]/w[2]\n",
        "x1 = -w[1]/w[2]\n",
        "yy = x1 * xx - b\n",
        "\n",
        "print('b:', b)\n",
        "print('x1:', x1)\n",
        "print('yy:', yy)\n",
        "\n",
        "plt.plot(xx, yy, 'k-')"
      ],
      "execution_count": 62,
      "outputs": [
        {
          "output_type": "stream",
          "text": [
            "w: [0.07612199 2.99926604 2.95021353]\n",
            "b: 0.025802195241373154\n",
            "x1: -1.0166267670577063\n",
            "yy: [ 6.07395841  5.82498859  5.57601877  5.32704895  5.07807913  4.8291093\n",
            "  4.58013948  4.33116966  4.08219984  3.83323002  3.5842602   3.33529038\n",
            "  3.08632056  2.83735074  2.58838092  2.3394111   2.09044128  1.84147146\n",
            "  1.59250164  1.34353182  1.094562    0.84559218  0.59662236  0.34765254\n",
            "  0.09868272 -0.15028711 -0.39925693 -0.64822675 -0.89719657 -1.14616639\n",
            " -1.39513621 -1.64410603 -1.89307585 -2.14204567 -2.39101549 -2.63998531\n",
            " -2.88895513 -3.13792495 -3.38689477 -3.63586459 -3.88483441 -4.13380423\n",
            " -4.38277405 -4.63174387 -4.8807137  -5.12968352 -5.37865334 -5.62762316\n",
            " -5.87659298 -6.1255628 ]\n"
          ],
          "name": "stdout"
        },
        {
          "output_type": "execute_result",
          "data": {
            "text/plain": [
              "[<matplotlib.lines.Line2D at 0x7f87e5fe5908>]"
            ]
          },
          "metadata": {
            "tags": []
          },
          "execution_count": 62
        },
        {
          "output_type": "display_data",
          "data": {
            "image/png": "[encoded data removed]",
            "text/plain": [
              "<Figure size 432x288 with 1 Axes>"
            ]
          },
          "metadata": {
            "tags": [],
            "needs_background": "light"
          }
        }
      ]
    }
  ]
}